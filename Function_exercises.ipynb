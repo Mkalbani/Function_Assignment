{
 "cells": [
  {
   "attachments": {},
   "cell_type": "markdown",
   "metadata": {},
   "source": [
    "# TRY IT YOURSELF EXERCISES"
   ]
  },
  {
   "attachments": {},
   "cell_type": "markdown",
   "metadata": {},
   "source": [
    "Exercises are from Python Crash Course by Eric_Matthes 3rd_Edition under the Function title."
   ]
  },
  {
   "cell_type": "code",
   "execution_count": 32,
   "metadata": {},
   "outputs": [
    {
     "name": "stdout",
     "output_type": "stream",
     "text": [
      "I am learning python\n"
     ]
    }
   ],
   "source": [
    "#8.1\n",
    "def display_message():\n",
    "    print('I am learning python')\n",
    "display_message()"
   ]
  },
  {
   "cell_type": "code",
   "execution_count": 33,
   "metadata": {},
   "outputs": [
    {
     "name": "stdout",
     "output_type": "stream",
     "text": [
      "One of my favorite books is The Messenger\n"
     ]
    }
   ],
   "source": [
    "#8.2\n",
    "def favorite_book(title):\n",
    "        print(f\"One of my favorite books is {title}\")\n",
    "\n",
    "title = \"The Messenger\"\n",
    "favorite_book(title)"
   ]
  },
  {
   "cell_type": "code",
   "execution_count": 34,
   "metadata": {},
   "outputs": [
    {
     "name": "stdout",
     "output_type": "stream",
     "text": [
      "Size of the shirt is 43, and it looks good\n"
     ]
    }
   ],
   "source": [
    "#8.3\n",
    "def make_shirt(size, message):\n",
    "    print(f\"Size of the shirt is {size}, and {message}\")\n",
    "\n",
    "size = 43\n",
    "message = 'it looks good'\n",
    "make_shirt(size, message)"
   ]
  },
  {
   "cell_type": "code",
   "execution_count": 35,
   "metadata": {},
   "outputs": [
    {
     "name": "stdout",
     "output_type": "stream",
     "text": [
      "A large T-shirt with the message 'I love Python'\n",
      "A medium T-shirt with the message 'I love Python'\n",
      "A small T-shirt with the message 'We move!'\n"
     ]
    }
   ],
   "source": [
    "#8.4\n",
    "def make_shirt(size=\"large\", message=\"I love Python\"):\n",
    "    print(f\"A {size} T-shirt with the message '{message}'\")\n",
    "\n",
    "# Make a large shirt\n",
    "make_shirt()\n",
    "# Make a medium shirt with the default message:\n",
    "make_shirt(size=\"medium\")\n",
    "\n",
    "# Make a shirt of any size with a different message:\n",
    "make_shirt(size=\"small\", message=\"We move!\")\n"
   ]
  },
  {
   "cell_type": "code",
   "execution_count": 36,
   "metadata": {},
   "outputs": [
    {
     "name": "stdout",
     "output_type": "stream",
     "text": [
      "Reykjavik is in Iceland.\n",
      "Abuja is in Nigeria.\n",
      "Tokyo is in Unknown_Country.\n"
     ]
    }
   ],
   "source": [
    "#8.5\n",
    "def describe_city(city, country='Unknown_Country'):\n",
    "    print(f\"{city} is in {country}.\")\n",
    "\n",
    "describe_city('Reykjavik', 'Iceland')  \n",
    "describe_city('Abuja', 'Nigeria')       \n",
    "describe_city('Tokyo')                \n"
   ]
  },
  {
   "cell_type": "code",
   "execution_count": 37,
   "metadata": {},
   "outputs": [
    {
     "name": "stdout",
     "output_type": "stream",
     "text": [
      "Santiago, Chile\n",
      "Paris, France\n",
      "Kaduna, Nigeria\n"
     ]
    }
   ],
   "source": [
    "#8.6\n",
    "def city_country(city, country):\n",
    "    return f\"{city.title()}, {country.title()}\"\n",
    "\n",
    "print(city_country(\"Santiago\", \"Chile\"))\n",
    "print(city_country(\"Paris\", \"France\"))\n",
    "print(city_country(\"Kaduna\", \"Nigeria\"))\n"
   ]
  },
  {
   "cell_type": "code",
   "execution_count": 38,
   "metadata": {},
   "outputs": [
    {
     "name": "stdout",
     "output_type": "stream",
     "text": [
      "{'artist': 'Artist 1', 'title': 'Album 1'}\n",
      "{'artist': 'Artist 2', 'title': 'Album 2', 'num_songs': 12}\n",
      "{'artist': 'Artist 3', 'title': 'Album 3', 'num_songs': 8}\n"
     ]
    }
   ],
   "source": [
    "#8.7\n",
    "def make_album(artist_name, album_title, num_songs=None):\n",
    "    album_info = {\n",
    "        'artist': artist_name,\n",
    "        'title': album_title\n",
    "    }\n",
    "    if num_songs:\n",
    "        album_info['num_songs'] = num_songs\n",
    "    return album_info\n",
    "\n",
    "# Test cases\n",
    "album1 = make_album(\"Artist 1\", \"Album 1\")\n",
    "album2 = make_album(\"Artist 2\", \"Album 2\", 12)\n",
    "album3 = make_album(\"Artist 3\", \"Album 3\", 8)\n",
    "\n",
    "print(album1)\n",
    "print(album2)\n",
    "print(album3)"
   ]
  },
  {
   "cell_type": "code",
   "execution_count": null,
   "metadata": {},
   "outputs": [],
   "source": [
    "#8.8\n",
    "def make_album(artist_name, album_title, num_songs=None):\n",
    "    album_info = {\n",
    "        \"artist\": artist_name,\n",
    "        \"album\": album_title\n",
    "    }\n",
    "\n",
    "    if num_songs:\n",
    "        album_info[\"songs\"] = num_songs\n",
    "\n",
    "    return album_info\n",
    "\n",
    "while True:\n",
    "    artist = input(\"\\nEnter the artist's name (or 'quit' to exit): \")\n",
    "    if artist.lower() == \"quit\":\n",
    "        break\n",
    "\n",
    "    album = input(\"Enter the album title: \")\n",
    "\n",
    "    while True: \n",
    "        try:\n",
    "            num_songs = int(input(\"Enter the number of songs (optional): \"))\n",
    "            break\n",
    "        except ValueError:\n",
    "            print(\"Invalid input. Please enter a number or leave blank for optional.\")\n",
    "\n",
    "    # Create the album dictionary\n",
    "    new_album = make_album(artist, album, num_songs)\n",
    "\n",
    "    # Print the created album\n",
    "    print(\"\\nCreated album:\")\n",
    "    print(new_album)\n"
   ]
  },
  {
   "cell_type": "code",
   "execution_count": 43,
   "metadata": {},
   "outputs": [
    {
     "name": "stdout",
     "output_type": "stream",
     "text": [
      "How are you\n",
      "I love coding!\n",
      "Making progress.\n"
     ]
    }
   ],
   "source": [
    "#8.9\n",
    "def show_messages(messages):\n",
    "    for message in messages:\n",
    "        print(message)\n",
    "text_messages = [\n",
    "    \"How are you\",\n",
    "    \"I love coding!\",\n",
    "    \"Making progress.\"\n",
    "    ]\n",
    "show_messages(text_messages)\n"
   ]
  },
  {
   "cell_type": "code",
   "execution_count": 40,
   "metadata": {},
   "outputs": [
    {
     "name": "stdout",
     "output_type": "stream",
     "text": [
      "How are you\n",
      "I love coding!\n",
      "Making progress.\n",
      "\n",
      "Original messages:\n",
      "How are you\n",
      "I love coding!\n",
      "Making progress.\n",
      "\n",
      "Sent messages:\n",
      "How are you\n",
      "I love coding!\n",
      "Making progress.\n"
     ]
    }
   ],
   "source": [
    "#8.10\n",
    "def show_messages(messages):\n",
    "    for message in messages:\n",
    "        print(message)\n",
    "\n",
    "def send_messages(messages, sent_messages):\n",
    "    while messages:\n",
    "        current_message = messages.pop(0)\n",
    "        print(current_message)\n",
    "        sent_messages.append(current_message)\n",
    "\n",
    "text_messages = [\n",
    "    \"How are you\",\n",
    "    \"I love coding!\",\n",
    "    \"Making progress.\"\n",
    "    ]\n",
    "\n",
    "sent_messages = []\n",
    "send_messages(text_messages[:], sent_messages)\n",
    "#print both files -- old and new\n",
    "print(\"\\nOriginal messages:\")\n",
    "show_messages(text_messages)\n",
    "print(\"\\nSent messages:\")\n",
    "show_messages(sent_messages)\n"
   ]
  },
  {
   "cell_type": "code",
   "execution_count": 42,
   "metadata": {},
   "outputs": [
    {
     "name": "stdout",
     "output_type": "stream",
     "text": [
      "How are you\n",
      "I love coding!\n",
      "Making progress.\n",
      "\n",
      "Original messages:\n",
      "How are you\n",
      "I love coding!\n",
      "Making progress.\n",
      "\n",
      "Sent messages:\n",
      "How are you\n",
      "I love coding!\n",
      "Making progress.\n"
     ]
    }
   ],
   "source": [
    "#8.11\n",
    "def show_messages(messages):\n",
    "    for message in messages:\n",
    "        print(message)\n",
    "\n",
    "def send_messages(messages, sent_messages):\n",
    "    while messages:\n",
    "        current_message = messages.pop(0)\n",
    "        print(current_message)\n",
    "        sent_messages.append(current_message)\n",
    "text_messages = [\n",
    "    \"How are you\",\n",
    "    \"I love coding!\",\n",
    "    \"Making progress.\"\n",
    "    ]\n",
    "\n",
    "sent_messages = []\n",
    "send_messages(text_messages[:], sent_messages)  # Passing a copy of text_messages\n",
    "print(\"\\nOriginal messages:\")\n",
    "show_messages(text_messages)\n",
    "print(\"\\nSent messages:\")\n",
    "show_messages(sent_messages)\n"
   ]
  },
  {
   "cell_type": "code",
   "execution_count": 44,
   "metadata": {},
   "outputs": [
    {
     "name": "stdout",
     "output_type": "stream",
     "text": [
      "Your sandwich will have meat, and cheese.\n",
      "Your sandwich will have turkey, lettuce, tomato, and mayo.\n",
      "Please provide some ingredients for your sandwich!\n"
     ]
    }
   ],
   "source": [
    "#8.12\n",
    "def build_sandwich(*ingredients):\n",
    "    if not ingredients:\n",
    "        print(\"Please provide some ingredients for your sandwich!\")\n",
    "        return\n",
    "    summary = \"Your sandwich will have \"\n",
    "    if len(ingredients) == 1:\n",
    "        summary += f\"just {ingredients[0]}.\"\n",
    "    else:\n",
    "        for ingredient in ingredients[:-1]:\n",
    "            summary += f\"{ingredient}, \"\n",
    "        summary += f\"and {ingredients[-1]}.\"\n",
    "    print(summary)\n",
    "build_sandwich(\"meat\", \"cheese\")\n",
    "build_sandwich(\"turkey\", \"lettuce\", \"tomato\", \"mayo\")\n",
    "build_sandwich()  \n"
   ]
  },
  {
   "cell_type": "code",
   "execution_count": 45,
   "metadata": {},
   "outputs": [
    {
     "name": "stdout",
     "output_type": "stream",
     "text": [
      "{'location': 'Kaduna', 'field': 'Building', 'language': 'hausa', 'school': 'Ahmadu Bello University', 'first_name': 'Musa', 'last_name': 'Khalid'}\n"
     ]
    }
   ],
   "source": [
    "#8.13\n",
    "def build_profile(first, last, **user_info):\n",
    "\n",
    "    user_info['first_name'] = first\n",
    "    user_info['last_name'] = last\n",
    "    return user_info\n",
    "user_profile = build_profile('Musa', 'Khalid',\n",
    "                                location='Kaduna',\n",
    "                                field='Building', language='hausa', school='Ahmadu Bello University')\n",
    "print(user_profile)"
   ]
  },
  {
   "cell_type": "code",
   "execution_count": 46,
   "metadata": {},
   "outputs": [
    {
     "name": "stdout",
     "output_type": "stream",
     "text": [
      "{'manufacturer': 'subaru', 'model': 'outback', 'color': 'blue', 'tow_package': True}\n"
     ]
    }
   ],
   "source": [
    "#8.14\n",
    "def make_car(manufacturer, model, **kwargs):\n",
    "    car = {\n",
    "        \"manufacturer\": manufacturer,\n",
    "        \"model\": model,\n",
    "    }\n",
    "    for key, value in kwargs.items():\n",
    "        car[key] = value\n",
    "    return car\n",
    "\n",
    "my_car = make_car(\"subaru\", \"outback\", color=\"blue\", tow_package=True)\n",
    "print(my_car)\n"
   ]
  },
  {
   "cell_type": "code",
   "execution_count": null,
   "metadata": {},
   "outputs": [],
   "source": [
    "#8.15\n",
    "\"\"\"\n",
    "there's no printing_models.py to import however the manner in which one would import such a model as noted in the question is as follows:\n",
    "import printing_function\n",
    "\"\"\""
   ]
  },
  {
   "cell_type": "code",
   "execution_count": 50,
   "metadata": {},
   "outputs": [
    {
     "name": "stdout",
     "output_type": "stream",
     "text": [
      "I am learning python\n"
     ]
    }
   ],
   "source": [
    "#8.16\n",
    "import file_to_import\n",
    "display_message()"
   ]
  },
  {
   "cell_type": "code",
   "execution_count": 66,
   "metadata": {},
   "outputs": [
    {
     "name": "stdout",
     "output_type": "stream",
     "text": [
      "One of my favorite books is The Messenger\n",
      "One of my favorite books is Book Thief\n"
     ]
    }
   ],
   "source": [
    "from file_2 import favorite_book\n",
    "\n",
    "favorite_book(\"Book Thief\")\n"
   ]
  },
  {
   "cell_type": "code",
   "execution_count": 67,
   "metadata": {},
   "outputs": [
    {
     "name": "stdout",
     "output_type": "stream",
     "text": [
      "One of my favorite books is Book Thief\n"
     ]
    }
   ],
   "source": [
    "from file_2 import favorite_book as fn\n",
    "\n",
    "favorite_book(\"Book Thief\")\n"
   ]
  },
  {
   "cell_type": "code",
   "execution_count": 57,
   "metadata": {},
   "outputs": [
    {
     "name": "stdout",
     "output_type": "stream",
     "text": [
      "One of my favorite books is The Messenger\n"
     ]
    }
   ],
   "source": [
    "from file_to_import import *\n",
    "\n",
    "favorite_book(title)"
   ]
  },
  {
   "cell_type": "code",
   "execution_count": 64,
   "metadata": {},
   "outputs": [
    {
     "name": "stdout",
     "output_type": "stream",
     "text": [
      "I am learning python\n"
     ]
    }
   ],
   "source": [
    "import file_to_import as mn\n",
    "\n",
    "display_message()"
   ]
  },
  {
   "cell_type": "code",
   "execution_count": null,
   "metadata": {},
   "outputs": [],
   "source": [
    "#8.17\n",
    "\"\"\"\n",
    "styling guidlines has been adhered to\n",
    "\"\"\""
   ]
  }
 ],
 "metadata": {
  "kernelspec": {
   "display_name": "arewads",
   "language": "python",
   "name": "python3"
  },
  "language_info": {
   "codemirror_mode": {
    "name": "ipython",
    "version": 3
   },
   "file_extension": ".py",
   "mimetype": "text/x-python",
   "name": "python",
   "nbconvert_exporter": "python",
   "pygments_lexer": "ipython3",
   "version": "3.10.13"
  },
  "orig_nbformat": 4
 },
 "nbformat": 4,
 "nbformat_minor": 2
}
